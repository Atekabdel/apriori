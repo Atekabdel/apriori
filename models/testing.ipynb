{
 "cells": [
  {
   "cell_type": "code",
   "execution_count": 1,
   "metadata": {},
   "outputs": [],
   "source": [
    "import pandas as pd\n",
    "from itertools import chain, combinations"
   ]
  },
  {
   "cell_type": "code",
   "execution_count": 2,
   "metadata": {},
   "outputs": [],
   "source": [
    "transactions = pd.read_excel(\"../data/transactions.xlsx\")"
   ]
  },
  {
   "cell_type": "code",
   "execution_count": 3,
   "metadata": {},
   "outputs": [],
   "source": [
    "def get_items(dataframe):\n",
    "    all_items = []\n",
    "    for x in dataframe.dropna().iloc[0].values:\n",
    "        str_x = str(x)\n",
    "        if str_x.endswith('.0'):\n",
    "            str_x = str_x[:-2]\n",
    "        all_items.append(str_x)\n",
    "    return set(all_items)"
   ]
  },
  {
   "cell_type": "code",
   "execution_count": 4,
   "metadata": {},
   "outputs": [
    {
     "name": "stdout",
     "output_type": "stream",
     "text": [
      "{'84950', '22169', '84991', '21866', '23183', '82580', '22903', '20961', '22577', '22246', '22953', '22621', '22071', '22179', '84970S', '22131', '22476', '22377', '22666', '23158', '79321', '21056', '21422', '21070', '22721', '85014B', '21030', '21888', '22367', '21948', '21055', '22144', '22617', '84951B', '21791', '85053', '20675', '22792', '22578', '22614', '21932', '21915', '85039A', '22701', '90166', '22107', '21890', '21786', '84997D', '23309', '22581', '23266', '20718', '22573', '22589', '22174', '22138', '21984', '21156', '23218', '22195', '84945', '23224', '84077', '21025', '85054', '22082', '21212', '22961', '84969', '21126', '21466', '22098', '84375', '22338', 'CRUK', '20677', '20707', '21098', '22467', '22686', '20765', '23084', '21508', '21992', '23197', '22786', '20725', '22508', '21975', '16238', '22326', '85176', '22446', '22736', '35648', '22362', '22070', '22170', '22173', '23223', '23284', '23275', '22557', '22439', '47310M', '23192', '21730', '21704', '85034B', '21314', '22418', '20652', '22119', '22595', '84510C', '21112', '23322', '22951', '23229', '22141', '21028', '22417', '22564', '23301', '84952B', '22594', '22280', '22811', '71053', '22697', '23228', '84828', '22844', '22556', '22645', '22402', '22752', '35646', '21913', '85131C', '21993', '22083', '23144', '22703', '22624', '22189', '22028', '22565', '15044A', '22390', '22739', '22651', '22027', '22593', '22086', '22074', '22939', '21390', '22371', '85049G', '85049A', '21718', '22948', '84946', '85049E', '22738', '22473', '22457', '84032B', '21705', '21790', '22559', '71459', '22956', '21154', '20728', '22422', '22745', '20764', '21356', '47593B', '21155', '85049H', '22980', '22732', '21981', '84673B', '21983', '22341', '21507', '85039B', '21900', '22429', '22812', '21676', '85131B', '22178', '84029G', '85129D', '21820', '22492', '23004', '21733', '21985', '21914', '20717', '22905', '21380', '22219', '23308', '22672', '22809', '84031A', '22938', '22714', '21470', '22653', '21231', '22507', '22623', '21977', '21468', '22756', '22998', '84380', '22865', '22489', '22630', '22753', '22024', '22212', '10135', '22810', '22940', '23263', '37500', '22580', '22574', '22750', '71477', '22135', '22592', '23273', '22746', '22819', '84968D', '22312', '90119', '22814', '20971', '22676', '23221', '22620', '21949', '21903', '22646', '23129', '21557', '22381', '21408', '22897', '21876', '22187', '22601', '82616C', '85015', '21982', '22134', '82001S', '22077', '23227', '84596F', '84997B', '21328', '23200', '22563', '22591', '22896', '21285', '22210', '21561', '22494', '47591D', '82482', '22108', '84978', '20617', '22227', '22114', '21703', '22619', '23184', '48188', '22116', '22355', '22260', '21912', '23081', '22675', '85038', '21908', '82552', 'DOT', '21892', '22596', '20972', '21872', '84692', '23264', '22551', '20963', '22755', '23126', '22895', '22720', '22804', '21905', '22196', '84884A', '21172', '22356', '23012', '22376', '82567', '23222', '21675', '22124', '22566', '47559B', '22891', '22798', '21039', '22835', '21917', '20719', '21232', '22197', '22421', '21868', '21877', '23336', '22079', '21218', '23157', '51014C', '21929', '22558', '84859C', '22513', '22142', '22488', '22712', '23307', '22737', '21935', '21933', '23272', '21851', '22311', '22813', '22928', '22348', '85104', '21222', '23080', '22576', '22960', '22754', '17003', '22784', '22689', '21810', '22419', '22817', '23300', '22733', '22841', '21787', '21509', '20724', '90086', '21494', '22801', '22696', '22743', '21035', '84970L', '20970', '21832', '22493', '47504H', '84947', '21114', '21216', '22190', '84378', '23215', '22603', '22639', '21220', '22979', '85034C', '23274', '21329', '85199S', '72817', '20763', '23313', '22910', '21677', '21918', '21819', '22075', '22560', '23225', '21990', '84347', '20914', '85040A', '22380', '22549', '20973', '84988', '84032A', '22588', '23199', '21822', '20969', '23089', '21739', '21849', '22066', '21991', '22758', '84580', '22314', '23132', '47480', '22568', '84992', '21731', '84031B', '84832', '22945', '85039C', '35970', '51014L', '85179A', '20749', '22735', '22974', '22076', '22991', '22867', '23310', '23216', '21137', '16258A', '22385', '22550', '23188', '20713', '22308', '22993', '20682', '22346', '23171', '21889', '22585', '84926F', '84952A', '21485', '21947', '85123A', '20659', '85170D', '84536A', '22471', '23220', '85227', '22547', '22465', '22486', '82616B', '22726', '20829', '21916', '23106', '85152', '79066K', '22680', '22273', '22207', '21974', '23245', '21875', '23214', '21090', '22420', '22414', '22031', '21147', '23265', '23217', '22139', '90083', '22731', '23247', '21080', '85088', '22123', '82551', '20726', '21936', '84596B', '22759', '84997A', '21809', '22185', '51014A', '84915', '22671', '22664', '22757', '85174', '22406', '21744', '84596G', '23234', '22357', '20723', '22396', '22411', '23191', '22379', '23156', '23182', '22727', '84029E', '22436', '23090'}\n"
     ]
    }
   ],
   "source": [
    "items = get_items(transactions)\n",
    "print(items)"
   ]
  },
  {
   "cell_type": "code",
   "execution_count": 5,
   "metadata": {},
   "outputs": [],
   "source": [
    "from collections import Counter, defaultdict\n",
    "\n",
    "def above_min_supp(itemSet, item_counts, minSup, globalItemSetWithSup):\n",
    "    freqItemSet = set()\n",
    "    for item in itemSet:\n",
    "        if item in item_counts:\n",
    "            \n",
    "            globalItemSetWithSup[item] += item_counts[item]\n",
    "            support = float(item_counts[item] / len(item_counts) * 100) \n",
    "            if(support >= minSup):\n",
    "                freqItemSet.add(frozenset((item,)))\n",
    "\n",
    "    return freqItemSet"
   ]
  },
  {
   "cell_type": "code",
   "execution_count": 6,
   "metadata": {},
   "outputs": [],
   "source": [
    "def union(items, length):\n",
    "    return set([i.union(j) for i in items for j in items if len(i.union(j)) == length])\n"
   ]
  },
  {
   "cell_type": "code",
   "execution_count": 7,
   "metadata": {},
   "outputs": [
    {
     "ename": "KeyboardInterrupt",
     "evalue": "",
     "output_type": "error",
     "traceback": [
      "\u001b[0;31m---------------------------------------------------------------------------\u001b[0m",
      "\u001b[0;31mKeyboardInterrupt\u001b[0m                         Traceback (most recent call last)",
      "Cell \u001b[0;32mIn[7], line 1\u001b[0m\n\u001b[0;32m----> 1\u001b[0m item_counts \u001b[38;5;241m=\u001b[39m Counter(\u001b[43mtransactions\u001b[49m\u001b[38;5;241;43m.\u001b[39;49m\u001b[43mvalues\u001b[49m\u001b[38;5;241;43m.\u001b[39;49m\u001b[43mflatten\u001b[49m\u001b[43m(\u001b[49m\u001b[43m)\u001b[49m\u001b[38;5;241;43m.\u001b[39;49m\u001b[43mastype\u001b[49m\u001b[43m(\u001b[49m\u001b[38;5;28;43mstr\u001b[39;49m\u001b[43m)\u001b[49m)\n",
      "\u001b[0;31mKeyboardInterrupt\u001b[0m: "
     ]
    }
   ],
   "source": [
    "item_counts = Counter(transactions.values.flatten().astype(str))"
   ]
  },
  {
   "cell_type": "code",
   "execution_count": 92,
   "metadata": {},
   "outputs": [],
   "source": [
    "\n",
    "item_set_with_count = defaultdict(int)\n",
    "items_with_supp = above_min_supp(items, item_counts, 20, item_set_with_count)"
   ]
  },
  {
   "cell_type": "code",
   "execution_count": 8,
   "metadata": {
    "notebookRunGroups": {
     "groupValue": "1"
    }
   },
   "outputs": [],
   "source": [
    "def prun(candidateSet, prevFreqSet, length):\n",
    "    tempCandidateSet = candidateSet.copy()\n",
    "    for item in candidateSet:\n",
    "        subsets = combinations(item, length)\n",
    "        for subset in subsets:\n",
    "            if(frozenset(subset) not in prevFreqSet):\n",
    "                tempCandidateSet.remove(item)\n",
    "                break\n",
    "    return tempCandidateSet"
   ]
  },
  {
   "cell_type": "code",
   "execution_count": 9,
   "metadata": {},
   "outputs": [],
   "source": [
    "def powerset(s):\n",
    "    return chain.from_iterable(combinations(s, r) for r in range(1, len(s)))"
   ]
  },
  {
   "cell_type": "code",
   "execution_count": 24,
   "metadata": {},
   "outputs": [],
   "source": [
    "def associationRule(freqItemSet, itemSetWithSup, minConf):\n",
    "    rules = []\n",
    "    for k, itemSet in freqItemSet.items():\n",
    "        for item in itemSet:\n",
    "            print(item)\n",
    "            break\n",
    "            subsets = powerset(item)\n",
    "            for s in subsets:\n",
    "                confidence = float(\n",
    "                    itemSetWithSup[item] / itemSetWithSup[frozenset(s)])\n",
    "                if(confidence > minConf):\n",
    "                    rules.append([set(s), set(item.difference(s)), confidence])\n",
    "        break\n",
    "    return rules"
   ]
  },
  {
   "cell_type": "code",
   "execution_count": 27,
   "metadata": {},
   "outputs": [],
   "source": [
    "def aprio(dataset, minSup, minConf, item_counts):\n",
    "    \n",
    "    C1ItemSet = get_items(dataset)\n",
    "    \n",
    "    globalFreqItemSet = dict()\n",
    "    \n",
    "    globalItemSetWithSup = defaultdict(int)\n",
    "\n",
    "    #item_counts = Counter(transactions.values.flatten().astype(str))\n",
    "\n",
    "    L1ItemSet = above_min_supp(C1ItemSet, item_counts, minSup, globalItemSetWithSup)\n",
    "\n",
    "    currentLSet = L1ItemSet\n",
    "\n",
    "    k = 2\n",
    "\n",
    "    # Calculating frequent item set\n",
    "    while(currentLSet):\n",
    "        \n",
    "        globalFreqItemSet[k-1] = currentLSet\n",
    "        \n",
    "        candidateSet = union(currentLSet, k)\n",
    "        # Perform subset testing and remove pruned supersets\n",
    "        candidateSet = prun(candidateSet, currentLSet, k-1)\n",
    "        # Scanning itemSet for counting support\n",
    "        currentLSet = above_min_supp(candidateSet, item_counts, minSup, globalItemSetWithSup)\n",
    "        k += 1\n",
    "\n",
    "\n",
    "    rules = associationRule(globalFreqItemSet, globalItemSetWithSup, minConf)\n",
    "    rules.sort(key=lambda x: x[2])\n",
    "\n",
    "    return globalFreqItemSet, rules"
   ]
  },
  {
   "cell_type": "code",
   "execution_count": 26,
   "metadata": {},
   "outputs": [],
   "source": [
    "item_counts = Counter(transactions.values.flatten().astype(str))"
   ]
  },
  {
   "cell_type": "code",
   "execution_count": 28,
   "metadata": {},
   "outputs": [
    {
     "name": "stdout",
     "output_type": "stream",
     "text": [
      "frozenset({'23084'})\n"
     ]
    }
   ],
   "source": [
    "\n",
    "globalFreqItemSet, rules = aprio(transactions, 20, 1, item_counts)"
   ]
  },
  {
   "cell_type": "markdown",
   "metadata": {},
   "source": []
  },
  {
   "cell_type": "code",
   "execution_count": 19,
   "metadata": {},
   "outputs": [
    {
     "data": {
      "text/plain": [
       "[]"
      ]
     },
     "execution_count": 19,
     "metadata": {},
     "output_type": "execute_result"
    }
   ],
   "source": [
    "rules"
   ]
  }
 ],
 "metadata": {
  "kernelspec": {
   "display_name": "Python 3",
   "language": "python",
   "name": "python3"
  },
  "language_info": {
   "codemirror_mode": {
    "name": "ipython",
    "version": 3
   },
   "file_extension": ".py",
   "mimetype": "text/x-python",
   "name": "python",
   "nbconvert_exporter": "python",
   "pygments_lexer": "ipython3",
   "version": "3.10.12"
  }
 },
 "nbformat": 4,
 "nbformat_minor": 2
}
