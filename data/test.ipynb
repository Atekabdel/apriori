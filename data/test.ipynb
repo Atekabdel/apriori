{
 "cells": [
  {
   "cell_type": "code",
   "execution_count": 2,
   "metadata": {},
   "outputs": [],
   "source": [
    "import pandas as pd"
   ]
  },
  {
   "cell_type": "code",
   "execution_count": 3,
   "metadata": {},
   "outputs": [],
   "source": [
    "df = pd.read_excel(\"./transactions.xlsx\")"
   ]
  },
  {
   "cell_type": "code",
   "execution_count": 4,
   "metadata": {},
   "outputs": [
    {
     "name": "stdout",
     "output_type": "stream",
     "text": [
      "<class 'pandas.core.frame.DataFrame'>\n",
      "RangeIndex: 52101 entries, 0 to 52100\n",
      "Data columns (total 30 columns):\n",
      " #   Column  Non-Null Count  Dtype \n",
      "---  ------  --------------  ----- \n",
      " 0   0       52101 non-null  object\n",
      " 1   1       46731 non-null  object\n",
      " 2   2       43793 non-null  object\n",
      " 3   3       41668 non-null  object\n",
      " 4   4       39931 non-null  object\n",
      " 5   5       38193 non-null  object\n",
      " 6   6       36719 non-null  object\n",
      " 7   7       35233 non-null  object\n",
      " 8   8       33769 non-null  object\n",
      " 9   9       32387 non-null  object\n",
      " 10  10      31047 non-null  object\n",
      " 11  11      29738 non-null  object\n",
      " 12  12      28545 non-null  object\n",
      " 13  13      27317 non-null  object\n",
      " 14  14      26083 non-null  object\n",
      " 15  15      24824 non-null  object\n",
      " 16  16      23547 non-null  object\n",
      " 17  17      22492 non-null  object\n",
      " 18  18      21452 non-null  object\n",
      " 19  19      20337 non-null  object\n",
      " 20  20      19283 non-null  object\n",
      " 21  21      18334 non-null  object\n",
      " 22  22      17518 non-null  object\n",
      " 23  23      16654 non-null  object\n",
      " 24  24      15874 non-null  object\n",
      " 25  25      15242 non-null  object\n",
      " 26  26      14625 non-null  object\n",
      " 27  27      14026 non-null  object\n",
      " 28  28      13438 non-null  object\n",
      " 29  29      12757 non-null  object\n",
      "dtypes: object(30)\n",
      "memory usage: 11.9+ MB\n"
     ]
    }
   ],
   "source": [
    "df.info()"
   ]
  },
  {
   "cell_type": "code",
   "execution_count": 13,
   "metadata": {},
   "outputs": [
    {
     "name": "stdout",
     "output_type": "stream",
     "text": [
      "+------+---------+\n",
      "| Code | Product |\n",
      "+------+---------+\n",
      "|  A   |    10   |\n",
      "|  B   |    15   |\n",
      "|  C   |    20   |\n",
      "+------+---------+\n"
     ]
    }
   ],
   "source": [
    "from prettytable import PrettyTable\n",
    "\n",
    "data = [[\"A\", 10], [\"B\", 15], [\"C\", 20]]\n",
    "\n",
    "table = PrettyTable(['Code', 'Product'])\n",
    "for row in data:\n",
    "    table.add_row(row)\n",
    "\n",
    "print(table)"
   ]
  },
  {
   "cell_type": "code",
   "execution_count": null,
   "metadata": {},
   "outputs": [],
   "source": [
    "\n",
    "for _, customer_ in original_[original_[\"CustomerID\"].isna()].iterrows():\n",
    "\n",
    "    time = str(customer_['InvoiceDate']).split(' ')[1]\n",
    "    hour = int(time[:2])\n",
    "    minute = int(time[3:5])\n",
    "\n",
    "    if reference_time is None:\n",
    "        reference_time = {\"h\": hour, \"m\": minute}\n",
    "\n",
    "    if hour == reference_time['h'] and abs(minute - reference_time['m']) <= time_interval:\n",
    "        transaction.append(customer_['StockCode'])\n",
    "    else:\n",
    "        lens.append(len(transaction))\n",
    "        transactions.append(transaction)\n",
    "        transaction = [customer_['StockCode']]\n",
    "        reference_time = {\"h\": hour, \"m\": minute}\n",
    "\n",
    "    transactions.append(transaction)"
   ]
  }
 ],
 "metadata": {
  "kernelspec": {
   "display_name": "Python 3",
   "language": "python",
   "name": "python3"
  },
  "language_info": {
   "codemirror_mode": {
    "name": "ipython",
    "version": 3
   },
   "file_extension": ".py",
   "mimetype": "text/x-python",
   "name": "python",
   "nbconvert_exporter": "python",
   "pygments_lexer": "ipython3",
   "version": "3.10.12"
  }
 },
 "nbformat": 4,
 "nbformat_minor": 2
}
